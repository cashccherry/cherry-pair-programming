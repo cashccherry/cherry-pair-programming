{
 "cells": [
  {
   "cell_type": "code",
   "execution_count": 10,
   "id": "bdb8af02-9af5-4e65-9b87-6837b447ecfc",
   "metadata": {},
   "outputs": [],
   "source": [
    "import math\n",
    "import numpy as np"
   ]
  },
  {
   "cell_type": "code",
   "execution_count": 11,
   "id": "41c44614-2e67-4129-a6bb-61d3cf67e93a",
   "metadata": {},
   "outputs": [],
   "source": [
    "def imperial_to_metric(feet,inches):\n",
    "    \"\"\"\n",
    "    Converts feet and inches to meters\n",
    "    \"\"\"\n",
    "    return (12*feet + inches)/39.27"
   ]
  },
  {
   "cell_type": "code",
   "execution_count": 12,
   "id": "a07776da-7836-4295-8c3f-72f8e4ba1a1d",
   "metadata": {},
   "outputs": [],
   "source": [
    "def polar_to_cartesian(radius, angle):\n",
    "    \"\"\"\n",
    "    Converts radius and angle in radians to cartesian coordinates x,y\n",
    "    \"\"\"\n",
    "    return radius*math.cos(angle), radius*math.sin(angle)"
   ]
  },
  {
   "cell_type": "code",
   "execution_count": 13,
   "id": "a95e4b51-3209-4166-b023-16aea5cc884e",
   "metadata": {},
   "outputs": [],
   "source": [
    "def offset_mean(data,target_mean):\n",
    "    \"\"\"\n",
    "    Offsets the dataset to have mean target_mean\n",
    "    \"\"\"\n",
    "    return np.array(data) + target_mean-np.mean(data)"
   ]
  },
  {
   "cell_type": "code",
   "execution_count": 24,
   "id": "f987fe0e-1085-44bd-879e-329a15199641",
   "metadata": {},
   "outputs": [],
   "source": [
    "def scale_unit_interval(data):\n",
    "    \"\"\"\n",
    "    Scales a dataset of type nparray to have minimum 0 and maximum 1\n",
    "    \"\"\"\n",
    "    data -= np.min(np.array(double(data)))\n",
    "    data /= np.max(data)\n",
    "    return data"
   ]
  },
  {
   "cell_type": "code",
   "execution_count": 23,
   "id": "31f060d4-1073-4e8d-bc33-83074d65382a",
   "metadata": {},
   "outputs": [
    {
     "ename": "NameError",
     "evalue": "name 'double' is not defined",
     "output_type": "error",
     "traceback": [
      "\u001b[0;31m---------------------------------------------------------------------------\u001b[0m",
      "\u001b[0;31mNameError\u001b[0m                                 Traceback (most recent call last)",
      "\u001b[0;32m/var/folders/rl/wj4qcf416pj14jn1bplbv71c0000gn/T/ipykernel_6705/1717789431.py\u001b[0m in \u001b[0;36m<module>\u001b[0;34m\u001b[0m\n\u001b[0;32m----> 1\u001b[0;31m \u001b[0mscale_unit_interval\u001b[0m\u001b[0;34m(\u001b[0m\u001b[0;34m[\u001b[0m\u001b[0;36m1\u001b[0m\u001b[0;34m,\u001b[0m\u001b[0;36m2\u001b[0m\u001b[0;34m,\u001b[0m\u001b[0;36m3\u001b[0m\u001b[0;34m]\u001b[0m\u001b[0;34m)\u001b[0m\u001b[0;34m\u001b[0m\u001b[0;34m\u001b[0m\u001b[0m\n\u001b[0m",
      "\u001b[0;32m/var/folders/rl/wj4qcf416pj14jn1bplbv71c0000gn/T/ipykernel_6705/367525468.py\u001b[0m in \u001b[0;36mscale_unit_interval\u001b[0;34m(data)\u001b[0m\n\u001b[1;32m      3\u001b[0m     \u001b[0mScales\u001b[0m \u001b[0ma\u001b[0m \u001b[0mdataset\u001b[0m \u001b[0mof\u001b[0m \u001b[0mtype\u001b[0m \u001b[0mnparray\u001b[0m \u001b[0mto\u001b[0m \u001b[0mhave\u001b[0m \u001b[0mminimum\u001b[0m \u001b[0;36m0\u001b[0m \u001b[0;32mand\u001b[0m \u001b[0mmaximum\u001b[0m \u001b[0;36m1\u001b[0m\u001b[0;34m\u001b[0m\u001b[0;34m\u001b[0m\u001b[0m\n\u001b[1;32m      4\u001b[0m     \"\"\"\n\u001b[0;32m----> 5\u001b[0;31m     \u001b[0mdata\u001b[0m \u001b[0;34m-=\u001b[0m \u001b[0mnp\u001b[0m\u001b[0;34m.\u001b[0m\u001b[0mmin\u001b[0m\u001b[0;34m(\u001b[0m\u001b[0mnp\u001b[0m\u001b[0;34m.\u001b[0m\u001b[0marray\u001b[0m\u001b[0;34m(\u001b[0m\u001b[0mdouble\u001b[0m\u001b[0;34m(\u001b[0m\u001b[0mdata\u001b[0m\u001b[0;34m)\u001b[0m\u001b[0;34m)\u001b[0m\u001b[0;34m)\u001b[0m\u001b[0;34m\u001b[0m\u001b[0;34m\u001b[0m\u001b[0m\n\u001b[0m\u001b[1;32m      6\u001b[0m     \u001b[0mdata\u001b[0m \u001b[0;34m/=\u001b[0m \u001b[0mdouble\u001b[0m\u001b[0;34m(\u001b[0m\u001b[0mnp\u001b[0m\u001b[0;34m.\u001b[0m\u001b[0mmax\u001b[0m\u001b[0;34m(\u001b[0m\u001b[0mdata\u001b[0m\u001b[0;34m)\u001b[0m\u001b[0;34m)\u001b[0m\u001b[0;34m\u001b[0m\u001b[0;34m\u001b[0m\u001b[0m\n\u001b[1;32m      7\u001b[0m     \u001b[0;32mreturn\u001b[0m \u001b[0mdata\u001b[0m\u001b[0;34m\u001b[0m\u001b[0;34m\u001b[0m\u001b[0m\n",
      "\u001b[0;31mNameError\u001b[0m: name 'double' is not defined"
     ]
    }
   ],
   "source": [
    "scale_unit_interval([1,2,3])"
   ]
  },
  {
   "cell_type": "code",
   "execution_count": null,
   "id": "bb479424-8459-49df-a33f-da59e1ef1cd5",
   "metadata": {},
   "outputs": [],
   "source": []
  }
 ],
 "metadata": {
  "kernelspec": {
   "display_name": "Python 3 (ipykernel)",
   "language": "python",
   "name": "python3"
  },
  "language_info": {
   "codemirror_mode": {
    "name": "ipython",
    "version": 3
   },
   "file_extension": ".py",
   "mimetype": "text/x-python",
   "name": "python",
   "nbconvert_exporter": "python",
   "pygments_lexer": "ipython3",
   "version": "3.9.12"
  }
 },
 "nbformat": 4,
 "nbformat_minor": 5
}
